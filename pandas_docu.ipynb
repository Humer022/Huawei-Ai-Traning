{
 "cells": [
  {
   "cell_type": "markdown",
   "id": "38a03e2c",
   "metadata": {},
   "source": [
    "Here we disscuss necessary pandas Documentation"
   ]
  },
  {
   "cell_type": "markdown",
   "id": "077c4f1d",
   "metadata": {},
   "source": [
    "1. Data Structures\n",
    "✅ Series\n",
    "1D labeled array (like a column)\n",
    "\n",
    "Can hold any data type: int, float, string, etc.\n",
    "pd.Series([10, 20, 30])"
   ]
  },
  {
   "cell_type": "markdown",
   "id": "141fb727",
   "metadata": {},
   "source": [
    "2. DataFrame\n",
    "2D labeled table (like an Excel sheet)\n",
    "\n",
    "Rows and columns with labels\n",
    "pd.DataFrame({'A': [1, 2], 'B': [3, 4]})"
   ]
  },
  {
   "cell_type": "markdown",
   "id": "972275f4",
   "metadata": {},
   "source": [
    "3. Core Functionalities\n",
    "Creating DataFrames\n",
    "df = pd.DataFrame(data)"
   ]
  },
  {
   "cell_type": "markdown",
   "id": "5295d753",
   "metadata": {},
   "source": [
    "4. Reading/Writing Files\n",
    "pd.read_csv('file.csv')     # Read CSV\n",
    "df.to_csv('file.csv')       # Save to CSV"
   ]
  },
  {
   "cell_type": "markdown",
   "id": "bfb317a5",
   "metadata": {},
   "source": [
    "4. 🔍 Viewing Data\n",
    "df.head()      # First 5 rows\n",
    "df.tail(3)     # Last 3 rows\n",
    "df.info()      # Summary of dataframe\n",
    "df.describe()  # Stats summary"
   ]
  },
  {
   "cell_type": "markdown",
   "id": "74fca8f6",
   "metadata": {},
   "source": [
    "5. Indexing & Selecting Data\n",
    "df['column_name']    =   # Select column\n",
    "df.loc[1]           =    # Row by label\n",
    "df.iloc[0]         =       # Row by position\n",
    "df[0:3]           =      # Slice rows"
   ]
  },
  {
   "cell_type": "markdown",
   "id": "aea1540a",
   "metadata": {},
   "source": [
    "🔹 4. Filtering / Conditional Selection\n",
    "df[df['age'] > 30]      # Filter rows"
   ]
  },
  {
   "cell_type": "markdown",
   "id": "86409b43",
   "metadata": {},
   "source": [
    "🔹 5. Handling Missing Data\n",
    "df.isnull()             # Check for nulls\n",
    "df.dropna()             # Drop missing rows\n",
    "df.fillna(0)            # Fill missing with 0\n"
   ]
  },
  {
   "cell_type": "markdown",
   "id": "d1d035f9",
   "metadata": {},
   "source": [
    "🔹 6. Operations\n",
    "df.mean()               # Column-wise mean\n",
    "df.sum()                # Sum of values\n",
    "df.apply(func)          # Apply custom function"
   ]
  },
  {
   "cell_type": "markdown",
   "id": "78af0c74",
   "metadata": {},
   "source": [
    "🔹 7. GroupBy & Aggregation\n",
    "df.groupby('city').mean()\n",
    "df.groupby('gender').sum()"
   ]
  },
  {
   "cell_type": "markdown",
   "id": "185976dd",
   "metadata": {},
   "source": [
    "8. Merging / Joining / Concatenating\n",
    "pd.concat([df1, df2])        # Stack vertically\n",
    "pd.merge(df1, df2, on='id')  # Merge on column\n"
   ]
  },
  {
   "cell_type": "markdown",
   "id": "37b65bf3",
   "metadata": {},
   "source": [
    "9. Sorting\n",
    "df.sort_values('age')\n",
    "df.sort_index()"
   ]
  },
  {
   "cell_type": "markdown",
   "id": "81b7397f",
   "metadata": {},
   "source": [
    "🔹 10. Data Cleaning Examples\n",
    "df.columns = df.columns.str.strip().str.lower()\n",
    "df['col'] = df['col'].str.replace('$', '', regex=False)\n"
   ]
  },
  {
   "cell_type": "markdown",
   "id": "bc7f0c34",
   "metadata": {},
   "source": [
    "🛠️ Bonus Tools\n",
    "pivot_table(): for summarizing data\n",
    "value_counts(): count unique values\n",
    "unique(), nunique(): unique elements\n",
    "duplicated(), drop_duplicates()"
   ]
  }
 ],
 "metadata": {
  "language_info": {
   "name": "python"
  }
 },
 "nbformat": 4,
 "nbformat_minor": 5
}
